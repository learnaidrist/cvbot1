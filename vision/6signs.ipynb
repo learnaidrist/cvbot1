{
 "cells": [
  {
   "cell_type": "code",
   "execution_count": 22,
   "metadata": {},
   "outputs": [],
   "source": [
    "import math\n",
    "import numpy as np\n",
    "import h5py\n",
    "import matplotlib.pyplot as plt\n",
    "import tensorflow as tf\n",
    "from tensorflow.python.framework import ops\n",
    "%matplotlib inline\n",
    "np.random.seed(1)\n",
    "from sklearn.preprocessing import MinMaxScaler"
   ]
  },
  {
   "cell_type": "code",
   "execution_count": 23,
   "metadata": {},
   "outputs": [],
   "source": [
    "def load_dataset():\n",
    "    train_dataset=h5py.File('./train_signs.h5','r')\n",
    "    train_set_x_orig=np.array(train_dataset[\"train_set_x\"][:])\n",
    "    train_set_y_orig=np.array(train_dataset['train_set_y'][:])\n",
    "    test_dataset=h5py.File('./test_signs.h5','r')\n",
    "    test_set_x_orig=np.array(test_dataset['test_set_x'][:])\n",
    "    test_set_y_orig=np.array(test_dataset['test_set_y'][:])\n",
    "    classes=np.array(test_dataset['list_classes'][:])\n",
    "    train_set_y_orig=train_set_y_orig.reshape((1,train_set_y_orig.shape[0]))\n",
    "    test_set_y_orig=test_set_y_orig.reshape((1,test_set_y_orig.shape[0]))\n",
    "    return train_set_x_orig,train_set_y_orig,test_set_x_orig,test_set_y_orig,classes\n",
    "def random_mini_batches(X,Y,mini_batch_size=64,seed=0):\n",
    "    \"\"\"\n",
    "    X.shape = \n",
    "    \"\"\"\n",
    "    m = X.shape[0]                  # number of training examples\n",
    "    mini_batches = []\n",
    "    np.random.seed(seed)\n",
    "    \n",
    "    # Step 1: Shuffle (X, Y)\n",
    "    permutation = list(np.random.permutation(m))\n",
    "    shuffled_X = X[permutation,:,:,:]\n",
    "    shuffled_Y = Y[permutation,:]\n",
    "\n",
    "    # Step 2: Partition (shuffled_X, shuffled_Y). Minus the end case.\n",
    "    num_complete_minibatches = math.floor(m/mini_batch_size) # number of mini batches of size mini_batch_size in your partitionning\n",
    "    for k in range(0, num_complete_minibatches):\n",
    "        mini_batch_X = shuffled_X[k * mini_batch_size : k * mini_batch_size + mini_batch_size,:,:,:]\n",
    "        mini_batch_Y = shuffled_Y[k * mini_batch_size : k * mini_batch_size + mini_batch_size,:]\n",
    "        mini_batch = (mini_batch_X, mini_batch_Y)\n",
    "        mini_batches.append(mini_batch)\n",
    "    \n",
    "    # Handling the end case (last mini-batch < mini_batch_size)\n",
    "    if m % mini_batch_size != 0:\n",
    "        mini_batch_X = shuffled_X[num_complete_minibatches * mini_batch_size : m,:,:,:]\n",
    "        mini_batch_Y = shuffled_Y[num_complete_minibatches * mini_batch_size : m,:]\n",
    "        mini_batch = (mini_batch_X, mini_batch_Y)\n",
    "        mini_batches.append(mini_batch)\n",
    "    \n",
    "    return mini_batches\n"
   ]
  },
  {
   "cell_type": "code",
   "execution_count": 24,
   "metadata": {},
   "outputs": [],
   "source": [
    "X_train,Y_train,X_test,Y_test,classes=load_dataset()"
   ]
  },
  {
   "cell_type": "code",
   "execution_count": 25,
   "metadata": {},
   "outputs": [
    {
     "name": "stdout",
     "output_type": "stream",
     "text": [
      "(1080, 64, 64, 3)\n",
      "(1, 1080)\n"
     ]
    }
   ],
   "source": [
    "print(X_train.shape)\n",
    "print(Y_train.shape)"
   ]
  },
  {
   "cell_type": "code",
   "execution_count": 26,
   "metadata": {},
   "outputs": [
    {
     "name": "stdout",
     "output_type": "stream",
     "text": [
      "5\n"
     ]
    },
    {
     "data": {
      "image/png": "[encoded data removed]",
      "text/plain": [
       "<matplotlib.figure.Figure at 0x7f4f00f10828>"
      ]
     },
     "metadata": {},
     "output_type": "display_data"
    }
   ],
   "source": [
    "#lets display the first image in dataset\n",
    "plt.figure()\n",
    "\n",
    "plt.imshow(X_train[0])\n",
    "\n",
    "print(np.squeeze(Y_train[:,0]))\n"
   ]
  },
  {
   "cell_type": "code",
   "execution_count": 27,
   "metadata": {},
   "outputs": [],
   "source": [
    "def convert_to_one_hot(Y,num_cls):\n",
    "    return np.eye(num_cls)[Y.reshape(-1)]\n",
    "    "
   ]
  },
  {
   "cell_type": "code",
   "execution_count": 28,
   "metadata": {},
   "outputs": [
    {
     "name": "stdout",
     "output_type": "stream",
     "text": [
      "Shape of training labels (1080, 6)\n"
     ]
    }
   ],
   "source": [
    "## scaling the datset\n",
    "#scaler=MinMaxScaler()\n",
    "X_train=(X_train)/255\n",
    "X_test=(X_test)/255\n",
    "Y_train=convert_to_one_hot(Y_train,6)\n",
    "Y_test=convert_to_one_hot(Y_test,6)\n",
    "print('Shape of training labels {}'.format(Y_train.shape))\n",
    "my_classes=np.unique(np.squeeze(Y_train))#alternate although I have classes variable from data\n",
    "num_classes=len(classes)\n",
    "\n",
    "\n"
   ]
  },
  {
   "cell_type": "code",
   "execution_count": 29,
   "metadata": {},
   "outputs": [],
   "source": [
    "conv_layers={}\n"
   ]
  },
  {
   "cell_type": "code",
   "execution_count": 30,
   "metadata": {},
   "outputs": [],
   "source": [
    "def create_placeholders(n_H0,n_W0,n_C0,n_y):\n",
    "    \"\"\"\n",
    "    n_H0=height of input image\n",
    "    n_W0=width of input image\n",
    "    n_C0=number of channels of the input image\n",
    "    n_y=number of classes\n",
    "    \"\"\"\n",
    "    \n",
    "    X=tf.placeholder(tf.float32,shape=[None,n_H0,n_W0,n_C0])\n",
    "    Y=tf.placeholder(tf.float32,shape=[None,n_y])\n",
    "    \n",
    "    \"\"\"\n",
    "    returns \n",
    "    X = placeholder for input of shape [None,n_H0,n_W0,n_C0]\n",
    "    Y=placeholder for input labels of shape [None,n_y]\n",
    "    \"\"\"\n",
    "    \n",
    "    return X,Y"
   ]
  },
  {
   "cell_type": "code",
   "execution_count": 31,
   "metadata": {},
   "outputs": [],
   "source": [
    "X,Y=create_placeholders(64,64,3,6)"
   ]
  },
  {
   "cell_type": "code",
   "execution_count": 32,
   "metadata": {},
   "outputs": [],
   "source": [
    "def initialize_parameters():\n",
    "    \"\"\"\n",
    "    initializes weights\n",
    "    W1 : shape is [4,4,3,8] , 8 is the no. filters\n",
    "    W2 : shape is [2,2,8,16] ,16 is the no. filters\n",
    "    \"\"\"\n",
    "    tf.set_random_seed(1)\n",
    "    \n",
    "    W1=tf.get_variable(\"W1\",[4,4,3,8],initializer=tf.contrib.layers.xavier_initializer(seed=0))\n",
    "    W2=tf.get_variable(\"W2\",[2,2,8,16],initializer=tf.contrib.layers.xavier_initializer(seed=0))\n",
    "    parameters={\"W1\":W1,\n",
    "               \"W2\":W2}\n",
    "    return parameters\n",
    "    "
   ]
  },
  {
   "cell_type": "code",
   "execution_count": 33,
   "metadata": {},
   "outputs": [],
   "source": [
    "def forward_propagation(X,parameters):\n",
    "    \"\"\"\n",
    "    CONV2D -> RELU -> MAXPOOL ->CONV2D-> RELU ->MAXPOOL -> FLATTEN ->  FULLYCONNECTED-> OUTPUT LAYER\n",
    "    \"\"\"\n",
    "    W1=parameters['W1']\n",
    "    W2=parameters['W2']\n",
    "    Z1=tf.nn.conv2d(X,W1,strides=[1,1,1,1],padding='SAME')\n",
    "    A1=tf.nn.relu(Z1)\n",
    "    P1=tf.nn.max_pool(A1,ksize=[1,8,8,1],strides=[1,8,8,1],padding='SAME')\n",
    "    Z2=tf.nn.conv2d(P1,W2,strides=[1,1,1,1],padding='SAME')\n",
    "    A2=tf.nn.relu(Z2)\n",
    "    P2=tf.nn.max_pool(A2,ksize=[1,4,4,1],strides=[1,4,4,1],padding='SAME')\n",
    "    # flattening the pool layer \n",
    "    P2_flatten=tf.contrib.layers.flatten(P2)\n",
    "    Z2=tf.contrib.layers.fully_connected(P2_flatten,num_outputs=12,activation_fn=tf.nn.relu)\n",
    "    Z3=tf.contrib.layers.fully_connected(Z2,num_outputs=6,activation_fn=None)\n",
    "    return Z3 \n",
    "    "
   ]
  },
  {
   "cell_type": "code",
   "execution_count": 34,
   "metadata": {},
   "outputs": [],
   "source": [
    "def compute_cost(logits,Y):\n",
    "    cost=tf.reduce_mean(tf.nn.softmax_cross_entropy_with_logits(logits=logits,labels=Y))\n",
    "    return cost"
   ]
  },
  {
   "cell_type": "code",
   "execution_count": 35,
   "metadata": {},
   "outputs": [],
   "source": [
    "def model(X_train,Y_train,X_test,Y_test,learning_rate=0.009,num_epochs=100,minibatch=100,minibatch_size=64,print_cost=True):\n",
    "    ops.reset_default_graph()\n",
    "    tf.set_random_seed(1)\n",
    "    seed=3\n",
    "    (m,n_H0,n_W0,n_C0)=X_train.shape\n",
    "    n_y=Y_train.shape[1]\n",
    "    costs=[]\n",
    "    \n",
    "    X,Y=create_placeholders(n_H0,n_W0,n_C0,n_y)\n",
    "    parameters=initialize_parameters()\n",
    "    Z3=forward_propagation(X,parameters)\n",
    "    cost=compute_cost(Z3,Y)\n",
    "    #backpropagation\n",
    "    optimizer=tf.train.AdamOptimizer(learning_rate=learning_rate).minimize(cost)\n",
    "    init=tf.global_variables_initializer()\n",
    "    tf.reset_default_graph()\n",
    "    with tf.Session() as sess:\n",
    "        sess.run(init)\n",
    "        for epoch in range(num_epochs):\n",
    "            \"\"\"\n",
    "            below variables will be initialized after each epoch\"\"\"\n",
    "            minibatch_cost=0\n",
    "            num_minibatches=int(m/minibatch_size)\n",
    "            seed=seed+1\n",
    "            minibatches=random_mini_batches(X_train,Y_train,minibatch_size,seed)\n",
    "            for minibatch in minibatches:\n",
    "                minibatch_X,minibatch_Y=minibatch\n",
    "                _,temp_cost=sess.run([optimizer,cost],feed_dict={X:minibatch_X,Y:minibatch_Y})\n",
    "            minibatch_cost+=temp_cost/num_minibatches\n",
    "            costs.append(minibatch_cost)\n",
    "            if epoch%2==0:\n",
    "                print(\"cost after {} is {}\".format(epoch,minibatch_cost))\n",
    "         \n",
    "        plt.plot(np.squeeze(costs))\n",
    "        plt.ylabel('cost')\n",
    "        plt.xlabel('after each 2nd epoch ')\n",
    "        plt.show()\n",
    "        predict_op = tf.argmax(Z3, 1)\n",
    "        correct_prediction = tf.equal(predict_op, tf.argmax(Y, 1))\n",
    "        \n",
    "        # Calculate accuracy on the test set\n",
    "        accuracy = tf.reduce_mean(tf.cast(correct_prediction, \"float\"))\n",
    "        print(accuracy)\n",
    "        train_accuracy = accuracy.eval({X: X_train, Y: Y_train})\n",
    "        test_accuracy = accuracy.eval({X: X_test, Y: Y_test})\n",
    "        print(\"Train Accuracy:\", train_accuracy)\n",
    "        print(\"Test Accuracy:\", test_accuracy)\n",
    "                \n",
    "        return train_accuracy, test_accuracy, parameters"
   ]
  },
  {
   "cell_type": "code",
   "execution_count": 36,
   "metadata": {},
   "outputs": [
    {
     "name": "stdout",
     "output_type": "stream",
     "text": [
      "WARNING:tensorflow:From <ipython-input-34-3b014a3384e4>:2: softmax_cross_entropy_with_logits (from tensorflow.python.ops.nn_ops) is deprecated and will be removed in a future version.\n",
      "Instructions for updating:\n",
      "\n",
      "Future major versions of TensorFlow will allow gradients to flow\n",
      "into the labels input on backprop by default.\n",
      "\n",
      "See tf.nn.softmax_cross_entropy_with_logits_v2.\n",
      "\n",
      "cost after 0 is 0.11197155714035034\n",
      "cost after 2 is 0.11240094155073166\n",
      "cost after 4 is 0.11200058460235596\n",
      "cost after 6 is 0.11206068843603134\n",
      "cost after 8 is 0.11197978258132935\n",
      "cost after 10 is 0.11225839704275131\n",
      "cost after 12 is 0.11203355342149734\n",
      "cost after 14 is 0.11215841770172119\n",
      "cost after 16 is 0.11212795227766037\n",
      "cost after 18 is 0.11194910854101181\n",
      "cost after 20 is 0.1119161993265152\n",
      "cost after 22 is 0.11199815571308136\n",
      "cost after 24 is 0.1119823083281517\n",
      "cost after 26 is 0.11183048784732819\n",
      "cost after 28 is 0.11228428035974503\n",
      "cost after 30 is 0.11207542568445206\n",
      "cost after 32 is 0.11201111227273941\n",
      "cost after 34 is 0.11212300509214401\n",
      "cost after 36 is 0.11201173067092896\n",
      "cost after 38 is 0.11040101945400238\n",
      "cost after 40 is 0.1103636845946312\n",
      "cost after 42 is 0.11074541509151459\n",
      "cost after 44 is 0.1120280846953392\n",
      "cost after 46 is 0.11197011917829514\n",
      "cost after 48 is 0.11201853305101395\n",
      "cost after 50 is 0.10987049341201782\n",
      "cost after 52 is 0.11199669539928436\n",
      "cost after 54 is 0.11232534795999527\n",
      "cost after 56 is 0.1121615543961525\n",
      "cost after 58 is 0.1100865826010704\n",
      "cost after 60 is 0.1120074987411499\n",
      "cost after 62 is 0.11185557395219803\n",
      "cost after 64 is 0.11235581338405609\n",
      "cost after 66 is 0.11190968006849289\n",
      "cost after 68 is 0.10959804803133011\n",
      "cost after 70 is 0.110113225877285\n",
      "cost after 72 is 0.11209695786237717\n",
      "cost after 74 is 0.11009670048952103\n",
      "cost after 76 is 0.11185626685619354\n",
      "cost after 78 is 0.11231766641139984\n",
      "cost after 80 is 0.11198250204324722\n",
      "cost after 82 is 0.11047462373971939\n",
      "cost after 84 is 0.11204473674297333\n",
      "cost after 86 is 0.11000961810350418\n",
      "cost after 88 is 0.11215528100728989\n",
      "cost after 90 is 0.1102387085556984\n",
      "cost after 92 is 0.11202774196863174\n",
      "cost after 94 is 0.11201488971710205\n",
      "cost after 96 is 0.11189506202936172\n",
      "cost after 98 is 0.11029551923274994\n"
     ]
    },
    {
     "data": {
      "image/png": "[encoded data removed]",
      "text/plain": [
       "<matplotlib.figure.Figure at 0x7f4efe54ba90>"
      ]
     },
     "metadata": {},
     "output_type": "display_data"
    },
    {
     "name": "stdout",
     "output_type": "stream",
     "text": [
      "Tensor(\"Mean_1:0\", shape=(), dtype=float32)\n",
      "Train Accuracy: 0.174074\n",
      "Test Accuracy: 0.175\n"
     ]
    },
    {
     "data": {
      "text/plain": [
       "(0.17407407,\n",
       " 0.175,\n",
       " {'W1': <tf.Variable 'W1:0' shape=(4, 4, 3, 8) dtype=float32_ref>,\n",
       "  'W2': <tf.Variable 'W2:0' shape=(2, 2, 8, 16) dtype=float32_ref>})"
      ]
     },
     "execution_count": 36,
     "metadata": {},
     "output_type": "execute_result"
    }
   ],
   "source": [
    "model(X_train,Y_train,X_test,Y_test)"
   ]
  },
  {
   "cell_type": "code",
   "execution_count": null,
   "metadata": {},
   "outputs": [],
   "source": []
  }
 ],
 "metadata": {
  "kernelspec": {
   "display_name": "Python 3",
   "language": "python",
   "name": "python3"
  },
  "language_info": {
   "codemirror_mode": {
    "name": "ipython",
    "version": 3
   },
   "file_extension": ".py",
   "mimetype": "text/x-python",
   "name": "python",
   "nbconvert_exporter": "python",
   "pygments_lexer": "ipython3",
   "version": "3.6.3"
  }
 },
 "nbformat": 4,
 "nbformat_minor": 2
}
