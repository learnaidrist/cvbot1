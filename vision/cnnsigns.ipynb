{
 "cells": [
  {
   "cell_type": "code",
   "execution_count": 1,
   "metadata": {},
   "outputs": [],
   "source": [
    "import math\n",
    "import numpy as np\n",
    "import h5py\n",
    "import matplotlib.pyplot as plt\n",
    "import tensorflow as tf\n",
    "from tensorflow.python.framework import ops\n",
    "%matplotlib inline\n",
    "np.random.seed(1)\n",
    "from sklearn.preprocessing import MinMaxScaler"
   ]
  },
  {
   "cell_type": "code",
   "execution_count": 2,
   "metadata": {},
   "outputs": [],
   "source": [
    "def load_dataset():\n",
    "    train_dataset=h5py.File('./train_signs.h5','r')\n",
    "    train_set_x_orig=np.array(train_dataset[\"train_set_x\"][:])\n",
    "    train_set_y_orig=np.array(train_dataset['train_set_y'][:])\n",
    "    test_dataset=h5py.File('./test_signs.h5','r')\n",
    "    test_set_x_orig=np.array(test_dataset['test_set_x'][:])\n",
    "    test_set_y_orig=np.array(test_dataset['test_set_y'][:])\n",
    "    classes=np.array(test_dataset['list_classes'][:])\n",
    "    train_set_y_orig=train_set_y_orig.reshape((1,train_set_y_orig.shape[0]))\n",
    "    test_set_y_orig=test_set_y_orig.reshape((1,test_set_y_orig.shape[0]))\n",
    "    return train_set_x_orig,train_set_y_orig,test_set_x_orig,test_set_y_orig,classes\n",
    "def random_mini_batches(X,Y,mini_batch_size=64,seed=0):\n",
    "    \"\"\"\n",
    "    X.shape = \n",
    "    \"\"\"\n",
    "    m = X.shape[0]                  # number of training examples\n",
    "    mini_batches = []\n",
    "    np.random.seed(seed)\n",
    "    \n",
    "    # Step 1: Shuffle (X, Y)\n",
    "    permutation = list(np.random.permutation(m))\n",
    "    shuffled_X = X[permutation,:,:,:]\n",
    "    shuffled_Y = Y[permutation,:]\n",
    "\n",
    "    # Step 2: Partition (shuffled_X, shuffled_Y). Minus the end case.\n",
    "    num_complete_minibatches = math.floor(m/mini_batch_size) # number of mini batches of size mini_batch_size in your partitionning\n",
    "    for k in range(0, num_complete_minibatches):\n",
    "        mini_batch_X = shuffled_X[k * mini_batch_size : k * mini_batch_size + mini_batch_size,:,:,:]\n",
    "        mini_batch_Y = shuffled_Y[k * mini_batch_size : k * mini_batch_size + mini_batch_size,:]\n",
    "        mini_batch = (mini_batch_X, mini_batch_Y)\n",
    "        mini_batches.append(mini_batch)\n",
    "    \n",
    "    # Handling the end case (last mini-batch < mini_batch_size)\n",
    "    if m % mini_batch_size != 0:\n",
    "        mini_batch_X = shuffled_X[num_complete_minibatches * mini_batch_size : m,:,:,:]\n",
    "        mini_batch_Y = shuffled_Y[num_complete_minibatches * mini_batch_size : m,:]\n",
    "        mini_batch = (mini_batch_X, mini_batch_Y)\n",
    "        mini_batches.append(mini_batch)\n",
    "    \n",
    "    return mini_batches\n"
   ]
  },
  {
   "cell_type": "code",
   "execution_count": 100,
   "metadata": {},
   "outputs": [],
   "source": [
    "X_train,Y_train,X_test,Y_test,classes=load_dataset()"
   ]
  },
  {
   "cell_type": "code",
   "execution_count": 101,
   "metadata": {},
   "outputs": [
    {
     "name": "stdout",
     "output_type": "stream",
     "text": [
      "(1080, 64, 64, 3)\n",
      "(1, 1080)\n"
     ]
    }
   ],
   "source": [
    "print(X_train.shape)\n",
    "print(Y_train.shape)"
   ]
  },
  {
   "cell_type": "code",
   "execution_count": 102,
   "metadata": {},
   "outputs": [
    {
     "name": "stdout",
     "output_type": "stream",
     "text": [
      "5\n"
     ]
    },
    {
     "data": {
      "image/png": "[encoded data removed]",
      "text/plain": [
       "<matplotlib.figure.Figure at 0x7f71c4767f60>"
      ]
     },
     "metadata": {},
     "output_type": "display_data"
    }
   ],
   "source": [
    "#lets display the first image in dataset\n",
    "plt.figure()\n",
    "\n",
    "plt.imshow(X_train[0])\n",
    "\n",
    "print(np.squeeze(Y_train[:,0]))\n"
   ]
  },
  {
   "cell_type": "code",
   "execution_count": 103,
   "metadata": {},
   "outputs": [],
   "source": [
    "def convert_to_one_hot(Y,num_cls):\n",
    "    return np.eye(num_cls)[Y.reshape(-1)]\n",
    "    "
   ]
  },
  {
   "cell_type": "code",
   "execution_count": 104,
   "metadata": {},
   "outputs": [
    {
     "name": "stdout",
     "output_type": "stream",
     "text": [
      "Shape of training labels (1080, 6)\n"
     ]
    }
   ],
   "source": [
    "## scaling the datset\n",
    "\n",
    "X_train=MinMaxScaler(X_train)\n",
    "X_test=MinMaxScaler(X_test)\n",
    "Y_train=convert_to_one_hot(Y_train,6)\n",
    "Y_test=convert_to_one_hot(Y_test,6)\n",
    "print('Shape of training labels {}'.format(Y_train.shape))\n",
    "my_classes=np.unique(np.squeeze(Y_train))#alternate although I have classes variable from data\n",
    "num_classes=len(classes)\n",
    "\n",
    "\n"
   ]
  },
  {
   "cell_type": "code",
   "execution_count": 105,
   "metadata": {},
   "outputs": [],
   "source": [
    "conv_layers={}\n"
   ]
  },
  {
   "cell_type": "code",
   "execution_count": 106,
   "metadata": {},
   "outputs": [],
   "source": [
    "def create_placeholders(n_H0,n_W0,n_C0,n_y):\n",
    "    \"\"\"\n",
    "    n_H0=height of input image\n",
    "    n_W0=width of input image\n",
    "    n_C0=number of channels of the input image\n",
    "    n_y=number of classes\n",
    "    \"\"\"\n",
    "    \n",
    "    X=tf.placeholder(tf.float32,shape=[None,n_H0,n_W0,n_C0])\n",
    "    Y=tf.placeholder(tf.float32,shape=[None,n_y])\n",
    "    \n",
    "    \"\"\"\n",
    "    returns \n",
    "    X = placeholder for input of shape [None,n_H0,n_W0,n_C0]\n",
    "    Y=placeholder for input labels of shape [None,n_y]\n",
    "    \"\"\"\n",
    "    \n",
    "    return X,Y"
   ]
  },
  {
   "cell_type": "code",
   "execution_count": 107,
   "metadata": {},
   "outputs": [],
   "source": [
    "X,Y=create_placeholders(64,64,3,6)"
   ]
  },
  {
   "cell_type": "code",
   "execution_count": 108,
   "metadata": {},
   "outputs": [],
   "source": [
    "def initialize_parameters():\n",
    "    \"\"\"\n",
    "    initializes weights\n",
    "    W1 : shape is [4,4,3,8] , 8 is the no. filters\n",
    "    W2 : shape is [2,2,8,16] ,16 is the no. filters\n",
    "    \"\"\"\n",
    "    tf.set_random_seed(1)\n",
    "    \n",
    "    W1=tf.get_variable(\"W1\",[4,4,3,8],initializer=tf.contrib.layers.xavier_initializer(seed=0))\n",
    "    W2=tf.get_variable(\"W2\",[2,2,8,16],initializer=tf.contrib.layers.xavier_initializer(seed=0))\n",
    "    parameters={\"W1\":W1,\n",
    "               \"W2\":W2}\n",
    "    return parameters\n",
    "    "
   ]
  },
  {
   "cell_type": "code",
   "execution_count": 109,
   "metadata": {},
   "outputs": [],
   "source": [
    "def forward_propagation(X,parameters):\n",
    "    \"\"\"\n",
    "    CONV2D -> RELU -> MAXPOOL ->CONV2D-> RELU ->MAXPOOL -> FLATTEN ->  FULLYCONNECTED\n",
    "    \"\"\"\n",
    "    W1=parameters['W1']\n",
    "    W2=parameters['W2']\n",
    "    Z1=tf.nn.conv2d(X,W1,strides=[1,1,1,1],padding='SAME')\n",
    "    A1=tf.nn.relu(Z1)\n",
    "    P1=tf.nn.max_pool(A1,ksize=[1,8,8,1],strides=[1,8,8,1],padding='SAME')\n",
    "    Z2=tf.nn.conv2d(P1,W2,strides=[1,1,1,1],padding='SAME')\n",
    "    A2=tf.nn.relu(Z2)\n",
    "    P2=tf.nn.max_pool(A2,ksize=[1,4,4,1],strides=[1,4,4,1],padding='SAME')\n",
    "    # flattening the pool layer \n",
    "    P2_flatten=tf.contrib.layers.flatten(P2)\n",
    "    P2_flatten=tf.nn.dropout(P2_flatten,0.5)\n",
    "    Z3=tf.contrib.layers.fully_connected(P2_flatten,num_outputs=6,activation_fn=None)\n",
    "    return Z3 \n",
    "    "
   ]
  },
  {
   "cell_type": "code",
   "execution_count": 110,
   "metadata": {},
   "outputs": [],
   "source": [
    "def compute_cost(logits,Y):\n",
    "    cost=tf.reduce_mean(tf.nn.softmax_cross_entropy_with_logits(logits=logits,labels=Y))\n",
    "    return cost"
   ]
  },
  {
   "cell_type": "code",
   "execution_count": 111,
   "metadata": {},
   "outputs": [],
   "source": [
    "def model(X_train,Y_train,X_test,Y_test,learning_rate=0.009,num_epochs=100,minibatch=100,minibatch_size=64,print_cost=True):\n",
    "    ops.reset_default_graph()\n",
    "    tf.set_random_seed(1)\n",
    "    seed=3\n",
    "    (m,n_H0,n_W0,n_C0)=X_train.shape\n",
    "    n_y=Y_train.shape[1]\n",
    "    costs=[]\n",
    "    \n",
    "    X,Y=create_placeholders(n_H0,n_W0,n_C0,n_y)\n",
    "    parameters=initialize_parameters()\n",
    "    Z3=forward_propagation(X,parameters)\n",
    "    cost=compute_cost(Z3,Y)\n",
    "    #backpropagation\n",
    "    optimizer=tf.train.AdamOptimizer(learning_rate=learning_rate).minimize(cost)\n",
    "    init=tf.global_variables_initializer()\n",
    "    with tf.Session() as sess:\n",
    "        sess.run(init)\n",
    "        for epoch in range(num_epochs):\n",
    "            \"\"\"\n",
    "            below variables will be initialized after each epoch\"\"\"\n",
    "            minibatch_cost=0\n",
    "            num_minibatches=int(m/minibatch_size)\n",
    "            seed=seed+1\n",
    "            minibatches=random_mini_batches(X_train,Y_train,minibatch_size,seed)\n",
    "            for minibatch in minibatches:\n",
    "                minibatch_X,minibatch_Y=minibatch\n",
    "                _,temp_cost=sess.run([optimizer,cost],feed_dict={X:minibatch_X,Y:minibatch_Y})\n",
    "            minibatch_cost+=temp_cost/num_minibatches\n",
    "            costs.append(minibatch_cost)\n",
    "            if epoch%2==0:\n",
    "                print(\"cost after {} is {}\".format(epoch,minibatch_cost))\n",
    "         \n",
    "        plt.plot(np.squeeze(costs))\n",
    "        plt.ylabel('cost')\n",
    "        plt.xlabel('after each 2nd epoch ')\n",
    "        plt.show()\n",
    "        predict_op = tf.argmax(Z3, 1)\n",
    "        correct_prediction = tf.equal(predict_op, tf.argmax(Y, 1))\n",
    "        \n",
    "        # Calculate accuracy on the test set\n",
    "        accuracy = tf.reduce_mean(tf.cast(correct_prediction, \"float\"))\n",
    "        print(accuracy)\n",
    "        train_accuracy = accuracy.eval({X: X_train, Y: Y_train})\n",
    "        test_accuracy = accuracy.eval({X: X_test, Y: Y_test})\n",
    "        print(\"Train Accuracy:\", train_accuracy)\n",
    "        print(\"Test Accuracy:\", test_accuracy)\n",
    "                \n",
    "        return train_accuracy, test_accuracy, parameters"
   ]
  },
  {
   "cell_type": "code",
   "execution_count": 112,
   "metadata": {},
   "outputs": [
    {
     "name": "stdout",
     "output_type": "stream",
     "text": [
      "cost after 0 is 0.11185959726572037\n",
      "cost after 2 is 0.11236643046140671\n",
      "cost after 4 is 0.11198312789201736\n",
      "cost after 6 is 0.11205929517745972\n",
      "cost after 8 is 0.11197996139526367\n",
      "cost after 10 is 0.11225778609514236\n",
      "cost after 12 is 0.11203398555517197\n",
      "cost after 14 is 0.11215509474277496\n",
      "cost after 16 is 0.11209572851657867\n",
      "cost after 18 is 0.11191675812005997\n",
      "cost after 20 is 0.11206506192684174\n",
      "cost after 22 is 0.11129968613386154\n",
      "cost after 24 is 0.09655576199293137\n",
      "cost after 26 is 0.10065913200378418\n",
      "cost after 28 is 0.10487502068281174\n",
      "cost after 30 is 0.09493931382894516\n",
      "cost after 32 is 0.09850086271762848\n",
      "cost after 34 is 0.09969385713338852\n",
      "cost after 36 is 0.08583474159240723\n",
      "cost after 38 is 0.08906049281358719\n",
      "cost after 40 is 0.09632635861635208\n",
      "cost after 42 is 0.09666401892900467\n",
      "cost after 44 is 0.09637705981731415\n",
      "cost after 46 is 0.08279634267091751\n",
      "cost after 48 is 0.07988917082548141\n",
      "cost after 50 is 0.0921289250254631\n",
      "cost after 52 is 0.08919995278120041\n",
      "cost after 54 is 0.09776943176984787\n",
      "cost after 56 is 0.08601115643978119\n",
      "cost after 58 is 0.08528351038694382\n",
      "cost after 60 is 0.0828758031129837\n",
      "cost after 62 is 0.0780211016535759\n",
      "cost after 64 is 0.07853953540325165\n",
      "cost after 66 is 0.0759052112698555\n",
      "cost after 68 is 0.0794524997472763\n",
      "cost after 70 is 0.06600626558065414\n",
      "cost after 72 is 0.0654708743095398\n",
      "cost after 74 is 0.06227128580212593\n",
      "cost after 76 is 0.06549724191427231\n",
      "cost after 78 is 0.09133594483137131\n",
      "cost after 80 is 0.0640854686498642\n",
      "cost after 82 is 0.06933604925870895\n",
      "cost after 84 is 0.06749047338962555\n",
      "cost after 86 is 0.067568339407444\n",
      "cost after 88 is 0.06832703202962875\n",
      "cost after 90 is 0.061594247817993164\n",
      "cost after 92 is 0.05693193897604942\n",
      "cost after 94 is 0.06881527602672577\n",
      "cost after 96 is 0.056220319122076035\n",
      "cost after 98 is 0.0713294968008995\n"
     ]
    },
    {
     "data": {
      "image/png": "[encoded data removed]",
      "text/plain": [
       "<matplotlib.figure.Figure at 0x7f71c4642278>"
      ]
     },
     "metadata": {},
     "output_type": "display_data"
    },
    {
     "name": "stdout",
     "output_type": "stream",
     "text": [
      "Tensor(\"Mean_1:0\", shape=(), dtype=float32)\n",
      "Train Accuracy: 0.666667\n",
      "Test Accuracy: 0.566667\n"
     ]
    },
    {
     "ename": "NameError",
     "evalue": "name 'parameter' is not defined",
     "output_type": "error",
     "traceback": [
      "\u001b[0;31m---------------------------------------------------------------------------\u001b[0m",
      "\u001b[0;31mNameError\u001b[0m                                 Traceback (most recent call last)",
      "\u001b[0;32m<ipython-input-112-f202ca0207db>\u001b[0m in \u001b[0;36m<module>\u001b[0;34m()\u001b[0m\n\u001b[0;32m----> 1\u001b[0;31m \u001b[0mmodel\u001b[0m\u001b[0;34m(\u001b[0m\u001b[0mX_train\u001b[0m\u001b[0;34m,\u001b[0m\u001b[0mY_train\u001b[0m\u001b[0;34m,\u001b[0m\u001b[0mX_test\u001b[0m\u001b[0;34m,\u001b[0m\u001b[0mY_test\u001b[0m\u001b[0;34m)\u001b[0m\u001b[0;34m\u001b[0m\u001b[0m\n\u001b[0m",
      "\u001b[0;32m<ipython-input-111-68864eafb9b0>\u001b[0m in \u001b[0;36mmodel\u001b[0;34m(X_train, Y_train, X_test, Y_test, learning_rate, num_epochs, minibatch, minibatch_size, print_cost)\u001b[0m\n\u001b[1;32m     46\u001b[0m         \u001b[0mprint\u001b[0m\u001b[0;34m(\u001b[0m\u001b[0;34m\"Test Accuracy:\"\u001b[0m\u001b[0;34m,\u001b[0m \u001b[0mtest_accuracy\u001b[0m\u001b[0;34m)\u001b[0m\u001b[0;34m\u001b[0m\u001b[0m\n\u001b[1;32m     47\u001b[0m \u001b[0;34m\u001b[0m\u001b[0m\n\u001b[0;32m---> 48\u001b[0;31m         \u001b[0;32mreturn\u001b[0m \u001b[0mtrain_accuracy\u001b[0m\u001b[0;34m,\u001b[0m \u001b[0mtest_accuracy\u001b[0m\u001b[0;34m,\u001b[0m \u001b[0mparameter\u001b[0m\u001b[0;34m\u001b[0m\u001b[0m\n\u001b[0m",
      "\u001b[0;31mNameError\u001b[0m: name 'parameter' is not defined"
     ]
    }
   ],
   "source": [
    "model(X_train,Y_train,X_test,Y_test)"
   ]
  },
  {
   "cell_type": "code",
   "execution_count": null,
   "metadata": {},
   "outputs": [],
   "source": []
  }
 ],
 "metadata": {
  "kernelspec": {
   "display_name": "Python 3",
   "language": "python",
   "name": "python3"
  },
  "language_info": {
   "codemirror_mode": {
    "name": "ipython",
    "version": 3
   },
   "file_extension": ".py",
   "mimetype": "text/x-python",
   "name": "python",
   "nbconvert_exporter": "python",
   "pygments_lexer": "ipython3",
   "version": "3.6.3"
  }
 },
 "nbformat": 4,
 "nbformat_minor": 2
}
